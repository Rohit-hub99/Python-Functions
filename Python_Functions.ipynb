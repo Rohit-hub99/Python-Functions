{
  "nbformat": 4,
  "nbformat_minor": 0,
  "metadata": {
    "colab": {
      "provenance": []
    },
    "kernelspec": {
      "name": "python3",
      "display_name": "Python 3"
    },
    "language_info": {
      "name": "python"
    }
  },
  "cells": [
    {
      "cell_type": "markdown",
      "source": [
        "Theory Questions and Answers"
      ],
      "metadata": {
        "id": "QJIeqd7m8hjO"
      }
    },
    {
      "cell_type": "markdown",
      "source": [
        "1. What is the difference between a function and a method in Python?\n",
        "  - In Python, the difference between a function and a method primarily lies in their association with objects and how they are invoked:\n",
        "\n",
        "   Function\n",
        "\n",
        "     Definition: A function is a block of code designed to perform a specific task. It is defined using the def keyword and is not tied to any specific object.\n",
        "     \n",
        "     Invocation: Functions are typically called directly by their name (e.g., function_name())\n",
        "\n",
        "     Scope: Functions can exist on their own, outside of any class or object.\n",
        "\n",
        "     Example:\n",
        "\n",
        "     def greet(name):\n",
        "\n",
        "    return f\"Hello, {name}!\"\n",
        "    \n",
        "    print(greet(\"Rohit\"))  \n",
        "    \n",
        "    Output: Hello, Rohit!\n",
        "\n",
        "    - Method\n",
        "\n",
        "    Definition: A method is a function that is associated with an object or class. Methods can be thought of as functions that \"belong\" to objects.\n",
        "\n",
        "    Invocation: Methods are called on an object or class instance using dot notation (e.g., object.method()).\n",
        "\n",
        "    Scope: Methods are defined within a class and can operate on the instance or class data.\n",
        "\n",
        "    Example:\n",
        "\n",
        "    class Greeter:\n",
        "\n",
        "    def __init__(self, name):\n",
        "\n",
        "        self.name = name\n",
        "\n",
        "    def greet(self):  # Instance method\n",
        "\n",
        "        return f\"Hello, {self.name}!\"\n",
        "\n",
        "    greeter = Greeter(\"Rohit\")\n",
        "\n",
        "    print(greeter.greet())  \n",
        "    \n",
        "     Output: Hello, Rohit!\n",
        "\n",
        "\n",
        "\n",
        "2.  Explain the concept of function arguments and parameters in Python ?\n",
        "  - In Python, arguments and parameters are fundamental concepts for passing data to functions. While often used interchangeably, they have distinct meanings:\n",
        "\n",
        "   1. Parameters\n",
        "\n",
        "     Definition: Parameters are the variables listed in a function's definition. They act as placeholders for the values the function expects when it is called.\n",
        "\n",
        "     Purpose: Define what data the function requires to operate.\n",
        "\n",
        "     Example:\n",
        "    \n",
        "    def greet(name):  # 'name' is a parameter\n",
        "\n",
        "    return f\"Hello, {name}!\"\n",
        "\n",
        "    2. Arguments\n",
        "\n",
        "    Definition: Arguments are the actual values or expressions supplied to a function when it is called. They are passed into the function to fill the corresponding parameters.\n",
        "\n",
        "    Example:\n",
        "\n",
        "    print(greet(\"Alice\"))  # \"Alice\" is an argument\n",
        "\n",
        "\n",
        "\n",
        "3. What are the different ways to define and call a function in Python ?\n",
        "  - In Python, functions can be defined and called in various ways, depending on the needs of your program. Here's a detailed overview of the different approaches:\n",
        "\n",
        "    - Basic Function Definition and Call\n",
        "\n",
        "    Definition: Use the def keyword, followed by the function name, parentheses, and a colon. Include the logic inside an indented block.\n",
        "\n",
        "    Call: Use the function name followed by parentheses, optionally passing arguments.\n",
        "\n",
        "    Example:\n",
        "\n",
        "    def greet():\n",
        "\n",
        "    print(\"Hello, World!\")\n",
        "\n",
        "    greet()\n",
        "    \n",
        "    Output: Hello, World!\n",
        "\n",
        "    - Function with Parameters\n",
        "\n",
        "    Definition: Specify parameters in parentheses after the function name.\n",
        "\n",
        "    Call: Pass arguments corresponding to the parameters.\n",
        "\n",
        "    Example:\n",
        "\n",
        "    def greet(name):\n",
        "\n",
        "    print(f\"Hello, {name}!\")\n",
        "\n",
        "    greet(\"Alice\")  \n",
        "    \n",
        "    Output: Hello, Alice!\n",
        "\n",
        "    - Function with Return Value\n",
        "\n",
        "    Definition: Use the return keyword to send back a result.\n",
        "\n",
        "    Call: Capture the return value in a variable or use it directly.\n",
        "    \n",
        "    Example:\n",
        "\n",
        "    def add(a, b):\n",
        "\n",
        "    return a + b\n",
        "    \n",
        "    result = add(3, 5)\n",
        "\n",
        "    print(result)  \n",
        "    \n",
        "    Output: 8\n",
        "\n",
        "\n",
        "\n",
        "4. What is the purpose of the `return` statement in a Python function ?\n",
        "  - The return statement in a Python function is used to send a value (or multiple values) back to the caller of the function. It serves as the function's output and allows the function to provide a result based on its operations. Without a return statement, a function in Python implicitly returns None.\n",
        "\n",
        "   - Provide Output to the Caller\n",
        "\n",
        "    The return statement allows a function to compute a result and send it back to the point where the function was called.\n",
        "\n",
        "    Example\n",
        "\n",
        "    def add(a, b):\n",
        "\n",
        "    return a + b\n",
        "\n",
        "    result = add(3, 4)\n",
        "\n",
        "    print(result)  \n",
        "    \n",
        "    Output: 7\n",
        "\n",
        "\n",
        "\n",
        "5. What are iterators in Python and how do they differ from iterables ?\n",
        "  - In Python, iterators and iterables are key concepts used to process sequences of data efficiently. While related, they serve distinct purposes and have important differences.\n",
        "\n",
        "    - What is an Iterable?\n",
        "\n",
        "   An iterable is any Python object that can return its elements one at a time. It is essentially a collection of data that can be iterated over.\n",
        "\n",
        "   Key Features:\n",
        "\n",
        "   Implements the __iter__() method, which returns an iterator.\n",
        "\n",
        "   Examples: Lists, tuples, strings, dictionaries, sets, and range objects.\n",
        "\n",
        "   Examples:\n",
        "\n",
        "   my_list = [1, 2, 3]     # List\n",
        "\n",
        "   my_string = \"hello\"     # String\n",
        "\n",
        "   for item in my_list:\n",
        "    \n",
        "    print(item)         # Iterating over the list\n",
        "\n",
        "   for char in my_string:\n",
        "\n",
        "    print(char)          # Iterating over the string\n",
        "\n",
        "     - What is an Iterator?\n",
        "\n",
        "    An iterator is an object that represents a stream of data and returns the elements of the iterable one at a time when requested.\n",
        "\n",
        "    Key Features:\n",
        "\n",
        "    Implements the __iter__() and __next__() methods.\n",
        "\n",
        "    __iter__(): Returns the iterator object itself (allowing it to be used in loops).\n",
        "\n",
        "    __next__(): Returns the next element in the sequence. Raises StopIteration when no more elements are available.\n",
        "    \n",
        "    Consumes data as it iterates. Once exhausted, it cannot be reset (unless explicitly implemented).\n",
        "\n",
        "     Converting an iterable into an iterator\n",
        "     \n",
        "     my_list = [1, 2, 3]\n",
        "     \n",
        "     iterator = iter(my_list)  # Get an iterator from the list\n",
        "\n",
        "    print(next(iterator))  # Output: 1\n",
        "    \n",
        "    print(next(iterator))  # Output: 2\n",
        "    \n",
        "    print(next(iterator))  # Output: 3\n",
        "    \n",
        "    print(next(iterator))  # Raises StopIteration\n",
        "\n",
        "\n",
        "\n",
        "6. Explain the concept of generators in Python and how they are defined ?\n",
        "  - Generators in Python are a way to create iterators in an efficient and elegant manner. Unlike normal functions, generators yield values one at a time using the yield keyword, rather than returning them all at once. This allows them to produce a sequence of values lazily (on-demand), which is memory-efficient, especially when dealing with large datasets or infinite sequences.\n",
        "\n",
        "   Defining Generators\n",
        "\n",
        "    - Using Functions with yield\n",
        "\n",
        "    A generator function is a normal function but uses yield instead of return. Each call to yield pauses the function, saving its state, and resumes from there the next time it is called.\n",
        "\n",
        "    Example:\n",
        "    \n",
        "    def count_up_to(max):\n",
        "    \n",
        "    count = 1\n",
        "    \n",
        "    while count <= max:\n",
        "        \n",
        "        yield count\n",
        "        \n",
        "        count += 1\n",
        "\n",
        "     Using the generator\n",
        "   \n",
        "   for number in count_up_to(5):\n",
        "    \n",
        "    print(number)\n",
        "\n",
        "\n",
        "\n",
        "7. What are the advantages of using generators over regular functions ?\n",
        "  - Generators offer several advantages over regular functions, especially when it comes to handling large datasets or implementing complex iteration logic. Here's a detailed look at the key benefits:\n",
        "\n",
        "    - Memory Efficiency\n",
        "\n",
        "    Regular functions return all their results at once, which can consume a significant amount of memory if the result is a large collection (e.g., a list of millions of elements).\n",
        "\n",
        "    Generators produce values one at a time, only when requested. This lazy evaluation minimizes memory usage and is particularly beneficial for large datasets or infinite sequences.\n",
        "    \n",
        "    Example:\n",
        "\n",
        "    def regular_function(n):\n",
        "\n",
        "    return [x * x for x in range(n)]  # Creates and stores the entire list in memory\n",
        "\n",
        "    def generator_function(n):\n",
        "\n",
        "    for x in range(n):\n",
        "\n",
        "        yield x * x  # Produces one value at a time\n",
        "    \n",
        "    - Improved Performance\n",
        "\n",
        "    Because generators don't create and store an entire collection, they often perform better in terms of speed for large-scale operations. They avoid the overhead of allocating memory for the full dataset at once.\n",
        "\n",
        "    - Lazy Evaluation\n",
        "    \n",
        "    Generators produce items on demand, which means you can start using their output immediately without waiting for the entire computation to finish.\n",
        "\n",
        "    - Simplified State Management\n",
        "    \n",
        "    Generators automatically save their state between successive calls. Unlike regular functions, there’s no need to manage iteration logic or state variables explicitly.\n",
        "\n",
        "\n",
        "\n",
        "8. What is a lambda function in Python and when is it typically used ?\n",
        "  - A lambda function in Python is a small, anonymous function defined using the lambda keyword. Unlike regular functions defined with the def keyword, lambda functions are limited to a single expression and do not have a name unless assigned to a variable.\n",
        "\n",
        "   Syntax\n",
        "\n",
        "   lambda arguments: expression\n",
        "\n",
        "   Example\n",
        "   \n",
        "   A lambda function that adds two numbers:\n",
        "  \n",
        "  add = lambda x, y: x + y\n",
        "  \n",
        "  print(add(3, 5))     # Output: 8\n",
        "\n",
        "    - Lambda functions are typically used in situations where:\n",
        "\n",
        "    A short function is needed temporarily: Lambdas are often used as throwaway functions for quick, concise operations.\n",
        "\n",
        "    Functionality needs to be passed as an argument: Lambdas are frequently used in higher-order functions like map(), filter(), and sorted().\n",
        "    \n",
        "    Code readability can be improved: For small, one-liner functions, lambdas can make the code cleaner and more concise.\n",
        "\n",
        "\n",
        "\n",
        "9. Explain the purpose and usage of the `map()` function in Python ?\n",
        "  - The map() function in Python is a built-in function used to apply a specified function to every item in an iterable (e.g., list, tuple, etc.) and return a map object (an iterator) with the transformed items.\n",
        "\n",
        "    - Purpose\n",
        "\n",
        "    The primary purpose of the map() function is to streamline the process of applying a function to each element in an iterable without needing to write an explicit loop. It is particularly useful for concise, functional-style programming.\n",
        "\n",
        "    Syntax\n",
        "\n",
        "    map(function, iterable, ...)\n",
        "\n",
        "    - Converting the Output\n",
        "    \n",
        "    Convert map object to a list\n",
        "    \n",
        "    mapped_result = map(lambda x: x * x, [1, 2, 3])\n",
        "    \n",
        "    print(list(mapped_result))  # Output: [1, 4, 9]\n",
        "    \n",
        "    - Comparison with List Comprehensions\n",
        "\n",
        "    Using map()\n",
        "    \n",
        "    result = map(lambda x: x ** 2, range(5))\n",
        "\n",
        "    Using list comprehension\n",
        "\n",
        "    result = [x ** 2 for x in range(5)]\n",
        "\n",
        "\n",
        "\n",
        "10. What is the difference between `map()`, `reduce()`, and `filter()` functions in Python?\n",
        "  - The map(), reduce(), and filter() functions in Python are all part of functional programming and are used to process iterables. However, they serve distinct purposes and operate differently. Here's a comparison of their functionality:\n",
        "\n",
        "    - map()\n",
        "    \n",
        "    Purpose:   \n",
        "    map() applies a specified function to each item in an iterable and returns an iterator with the transformed items.\n",
        "    \n",
        "    Syntax\n",
        "\n",
        "    map(function, iterable, ...)\n",
        "\n",
        "    - filter()\n",
        "     \n",
        "     Purpose:      \n",
        "     filter() filters elements of an iterable based on whether they satisfy a specified condition. It returns an iterator containing only those elements for which the function returns True.\n",
        "\n",
        "     Syntax\n",
        "\n",
        "     filter(function, iterable)\n",
        "\n",
        "    - reduce()\n",
        "\n",
        "     Purpose:   \n",
        "     reduce() repeatedly applies a specified function to reduce an iterable to a single cumulative value. It’s not a built-in function in Python 3 but is available in the functools module.\n",
        "\n",
        "     Syntax\n",
        "\n",
        "     from functools import reduce\n",
        "\n",
        "     reduce(function, iterable, initializer=None)\n",
        "\n",
        "\n",
        "11. Using pen & Paper write the internal mechanism for sum operation using  reduce function on this given\n",
        "list:[47,11,42,13]; ?\n",
        "   - This question's answer is provided in a doc as a pic attached with link.\n",
        "\n",
        "\n",
        "\n",
        "\n",
        "\n",
        "\n",
        "\n",
        "\n",
        "\n",
        "\n",
        "\n",
        "\n",
        "\n",
        "\n",
        "\n",
        "\n",
        "\n",
        "\n",
        "\n"
      ],
      "metadata": {
        "id": "pjPaiZBY8o0q"
      }
    },
    {
      "cell_type": "code",
      "source": [],
      "metadata": {
        "id": "4XeqtAij8mLK"
      },
      "execution_count": null,
      "outputs": []
    },
    {
      "cell_type": "markdown",
      "source": [
        "Practical Question's answer"
      ],
      "metadata": {
        "id": "WssVq-5yMbW2"
      }
    },
    {
      "cell_type": "code",
      "source": [
        "# 1.  Write a Python function that takes a list of numbers as input and returns the sum of all even numbers in the list ?\n",
        "\n",
        "def sum_of_evens(numbers):\n",
        "    even_sum = 0\n",
        "    for num in numbers:\n",
        "        if num % 2 == 0:\n",
        "            even_sum += num\n",
        "    return even_sum"
      ],
      "metadata": {
        "id": "0vMIEvCBMjUs"
      },
      "execution_count": 5,
      "outputs": []
    },
    {
      "cell_type": "code",
      "source": [
        "example_list = [1, 2, 3, 4, 5, 6]\n",
        "\n",
        "sum_of_evens(example_list)"
      ],
      "metadata": {
        "colab": {
          "base_uri": "https://localhost:8080/"
        },
        "id": "qrt9cZeBNJpg",
        "outputId": "af5a7375-7fa3-4c3b-f6ee-48a5328359ef"
      },
      "execution_count": 9,
      "outputs": [
        {
          "output_type": "execute_result",
          "data": {
            "text/plain": [
              "12"
            ]
          },
          "metadata": {},
          "execution_count": 9
        }
      ]
    },
    {
      "cell_type": "code",
      "source": [
        "# 2.  Create a Python function that accepts a string and returns the reverse of that string.\n",
        "\n",
        "def reverse_string(s):\n",
        "  \"\"\"\n",
        "    Returns the reverse of the given string.\n",
        "\n",
        "    Args:\n",
        "        s (str): The string to be reversed.\n",
        "\n",
        "    Returns:\n",
        "        str: The reversed string.\n",
        "    \"\"\"\n",
        "  return s[::-1]\n",
        ""
      ],
      "metadata": {
        "id": "k72D7VDENcKu"
      },
      "execution_count": 11,
      "outputs": []
    },
    {
      "cell_type": "code",
      "source": [
        "example_string = \"Rohit\"\n",
        "result = reverse_string(example_string)"
      ],
      "metadata": {
        "id": "7IlNW5CSO_7T"
      },
      "execution_count": 14,
      "outputs": []
    },
    {
      "cell_type": "code",
      "source": [
        "result"
      ],
      "metadata": {
        "colab": {
          "base_uri": "https://localhost:8080/",
          "height": 35
        },
        "id": "OTAgPLgIPNJf",
        "outputId": "65ca9113-3ea7-4d97-e535-8eed3ebea228"
      },
      "execution_count": 15,
      "outputs": [
        {
          "output_type": "execute_result",
          "data": {
            "text/plain": [
              "'tihoR'"
            ],
            "application/vnd.google.colaboratory.intrinsic+json": {
              "type": "string"
            }
          },
          "metadata": {},
          "execution_count": 15
        }
      ]
    },
    {
      "cell_type": "code",
      "source": [
        "# 3. Implement a Python function that takes a list of integers and returns a new list containing the squares of each number.\n",
        "\n",
        "def square_numbers(numbers):\n",
        "    \"\"\"\n",
        "    Returns a new list containing the squares of each number in the input list.\n",
        "\n",
        "    Args:\n",
        "        numbers (list): A list of integers.\n",
        "\n",
        "    Returns:\n",
        "        list: A new list containing the squares of each number in the input list.\n",
        "    \"\"\"\n",
        "    return [num ** 2 for num in numbers]"
      ],
      "metadata": {
        "id": "BstI2jXgPOEI"
      },
      "execution_count": 21,
      "outputs": []
    },
    {
      "cell_type": "code",
      "source": [
        "example_list = [1, 2, 3, 4, 5]\n",
        "result = square_numbers(example_list)\n",
        "\n",
        "result"
      ],
      "metadata": {
        "colab": {
          "base_uri": "https://localhost:8080/"
        },
        "id": "pD2ccDSFQpeb",
        "outputId": "ae344a69-c45a-4461-f42a-a5fe5d0cd6c1"
      },
      "execution_count": 22,
      "outputs": [
        {
          "output_type": "execute_result",
          "data": {
            "text/plain": [
              "[1, 4, 9, 16, 25]"
            ]
          },
          "metadata": {},
          "execution_count": 22
        }
      ]
    },
    {
      "cell_type": "code",
      "source": [
        "# 4.  Write a Python function that checks if a given number is prime or not from 1 to 200.\n",
        "\n",
        "def is_prime(number):\n",
        "  \"\"\"\n",
        "    Checks if a given number is prime or not.\n",
        "\n",
        "    Args:\n",
        "        number (int): The number to be checked.\n",
        "\n",
        "    Returns:\n",
        "        bool: True if the number is prime, False otherwise.\n",
        "    \"\"\"\n",
        "  if number <= 1:\n",
        "        return False\n",
        "        for i in range(2, number):\n",
        "          if number % i == 0:\n",
        "            return False\n",
        "\n",
        "          return True\n",
        "\n",
        "  for num in range(1, 201):\n",
        "    if is_prime(num):\n",
        "        print(f\"{num} is a prime number.\")\n",
        "\n"
      ],
      "metadata": {
        "id": "DPZLweYxQzoS"
      },
      "execution_count": 53,
      "outputs": []
    },
    {
      "cell_type": "code",
      "source": [
        "number = range(1, 201)\n",
        "result = is_prime(number)"
      ],
      "metadata": {
        "id": "QKJEYkSLVRnd"
      },
      "execution_count": null,
      "outputs": []
    },
    {
      "cell_type": "code",
      "source": [
        "# 5. Create an iterator class in Python that generates the Fibonacci sequence up to a specified number of term.\n",
        "\n",
        "class FibonacciIterator:\n",
        "  def __init__(self, num_terms):\n",
        "        self.num_terms = num_terms\n",
        "        self.current = 0\n",
        "        self.next = 1\n",
        "        self.count = 0\n",
        "\n",
        "        def __iter__(self):\n",
        "          return self\n",
        "\n",
        "def __next__(self):\n",
        "        if self.count >= self.num_terms:\n",
        "            raise StopIteration\n",
        "        if self.count == 0:\n",
        "            self.count += 1\n",
        "            return 0\n",
        "        elif self.count == 1:\n",
        "            self.count += 1\n",
        "            return 1\n",
        "        else:\n",
        "            result = self.current + self.next\n",
        "            self.current, self.next = self.next, result\n",
        "            self.count += 1\n",
        "            return result\n",
        "\n",
        "fib_iterator = FibonacciIterator(10)\n",
        "for fib_num in fib_iterator:\n",
        "  print(fib_num)"
      ],
      "metadata": {
        "colab": {
          "base_uri": "https://localhost:8080/",
          "height": 193
        },
        "id": "Ptqq6_XUVSW-",
        "outputId": "acd2e526-9630-4386-9b3d-d54f1e2dbf64"
      },
      "execution_count": 65,
      "outputs": [
        {
          "output_type": "error",
          "ename": "TypeError",
          "evalue": "'FibonacciIterator' object is not iterable",
          "traceback": [
            "\u001b[0;31m---------------------------------------------------------------------------\u001b[0m",
            "\u001b[0;31mTypeError\u001b[0m                                 Traceback (most recent call last)",
            "\u001b[0;32m<ipython-input-65-a201595f83e1>\u001b[0m in \u001b[0;36m<cell line: 0>\u001b[0;34m()\u001b[0m\n\u001b[1;32m     27\u001b[0m \u001b[0;34m\u001b[0m\u001b[0m\n\u001b[1;32m     28\u001b[0m \u001b[0mfib_iterator\u001b[0m \u001b[0;34m=\u001b[0m \u001b[0mFibonacciIterator\u001b[0m\u001b[0;34m(\u001b[0m\u001b[0;36m10\u001b[0m\u001b[0;34m)\u001b[0m\u001b[0;34m\u001b[0m\u001b[0;34m\u001b[0m\u001b[0m\n\u001b[0;32m---> 29\u001b[0;31m \u001b[0;32mfor\u001b[0m \u001b[0mfib_num\u001b[0m \u001b[0;32min\u001b[0m \u001b[0mfib_iterator\u001b[0m\u001b[0;34m:\u001b[0m\u001b[0;34m\u001b[0m\u001b[0;34m\u001b[0m\u001b[0m\n\u001b[0m\u001b[1;32m     30\u001b[0m   \u001b[0mprint\u001b[0m\u001b[0;34m(\u001b[0m\u001b[0mfib_num\u001b[0m\u001b[0;34m)\u001b[0m\u001b[0;34m\u001b[0m\u001b[0;34m\u001b[0m\u001b[0m\n",
            "\u001b[0;31mTypeError\u001b[0m: 'FibonacciIterator' object is not iterable"
          ]
        }
      ]
    },
    {
      "cell_type": "code",
      "source": [
        "# 6. Write a generator function in Python that yields the powers of 2 up to a given exponent.\n",
        "\n",
        "def powers_of_two(max_exponent):\n",
        "    \"\"\"\n",
        "    A generator that yields powers of 2 up to 2^max_exponent.\n",
        "\n",
        "    Args:\n",
        "        max_exponent (int): The maximum exponent.\n",
        "\n",
        "    Yields:\n",
        "        int: The powers of 2 from 2^0 to 2^max_exponent.\n",
        "    \"\"\"\n",
        "    for exponent in range(max_exponent + 1):\n",
        "        yield 2 ** exponent\n",
        "\n",
        "for power in powers_of_two(5):\n",
        "    print(power)"
      ],
      "metadata": {
        "colab": {
          "base_uri": "https://localhost:8080/"
        },
        "id": "671aQ1b0XTyr",
        "outputId": "b953cbf6-c7a2-474a-c2b8-8c89476bbc9d"
      },
      "execution_count": 66,
      "outputs": [
        {
          "output_type": "stream",
          "name": "stdout",
          "text": [
            "1\n",
            "2\n",
            "4\n",
            "8\n",
            "16\n",
            "32\n"
          ]
        }
      ]
    },
    {
      "cell_type": "code",
      "source": [
        "# 7.  Implement a generator function that reads a file line by line and yields each line as a string.\n",
        "\n",
        "def read_file_lines(file_path):\n",
        "  try:\n",
        "        with open(file_path, 'r') as file:\n",
        "            for line in file:\n",
        "                yield line.rstrip('\\n')\n",
        "  except FileNotFoundError:\n",
        "        print(f\"Error: File not found at {file_path}\")\n",
        "  except Exception as e:\n",
        "        print(f\"An error occurred: {e}\")\n",
        "\n",
        "\n",
        "for line in read_file_lines('example.txt'):\n",
        "    print(line)"
      ],
      "metadata": {
        "colab": {
          "base_uri": "https://localhost:8080/"
        },
        "id": "uHZWzsBaX_Mp",
        "outputId": "974b0a73-615b-4a30-e1c2-f0b8e1cec251"
      },
      "execution_count": 69,
      "outputs": [
        {
          "output_type": "stream",
          "name": "stdout",
          "text": [
            "Error: File not found at example.txt\n"
          ]
        }
      ]
    },
    {
      "cell_type": "code",
      "source": [
        "# 8. Use a lambda function in Python to sort a list of tuples based on the second element of each tuple.\n",
        "\n",
        "data = [(1, 5), (3, 2), (2, 8), (4, 1)]\n",
        "sorted_data = sorted(data, key=lambda x: x[1])\n",
        "print(sorted_data)"
      ],
      "metadata": {
        "colab": {
          "base_uri": "https://localhost:8080/"
        },
        "id": "M4w-WYSRYpwt",
        "outputId": "5e75cf62-c266-41a0-d5c9-42b3aba771ca"
      },
      "execution_count": 70,
      "outputs": [
        {
          "output_type": "stream",
          "name": "stdout",
          "text": [
            "[(4, 1), (3, 2), (1, 5), (2, 8)]\n"
          ]
        }
      ]
    },
    {
      "cell_type": "code",
      "source": [
        "# 9.  Write a Python program that uses `map()` to convert a list of temperatures from Celsius to Fahrenheit.\n",
        "\n",
        "celsius_temperatures = [0, 10, 20, 30, 40]\n",
        "fahrenheit_temperatures = list(map(lambda c: (c * 9/5) + 32, celsius_temperatures))"
      ],
      "metadata": {
        "id": "MtzDudU0Y-jo"
      },
      "execution_count": 73,
      "outputs": []
    },
    {
      "cell_type": "code",
      "source": [
        "celsius_temperatures"
      ],
      "metadata": {
        "colab": {
          "base_uri": "https://localhost:8080/"
        },
        "id": "IxZGJVxzZiby",
        "outputId": "ae041575-79ac-4eaf-d9f0-2554ef0ad620"
      },
      "execution_count": 74,
      "outputs": [
        {
          "output_type": "execute_result",
          "data": {
            "text/plain": [
              "[0, 10, 20, 30, 40]"
            ]
          },
          "metadata": {},
          "execution_count": 74
        }
      ]
    },
    {
      "cell_type": "code",
      "source": [
        "fahrenheit_temperatures"
      ],
      "metadata": {
        "colab": {
          "base_uri": "https://localhost:8080/"
        },
        "id": "FXMqcguiZq5c",
        "outputId": "88cc91fc-646d-4ecb-bc2f-87c6c5cc9b95"
      },
      "execution_count": 75,
      "outputs": [
        {
          "output_type": "execute_result",
          "data": {
            "text/plain": [
              "[32.0, 50.0, 68.0, 86.0, 104.0]"
            ]
          },
          "metadata": {},
          "execution_count": 75
        }
      ]
    },
    {
      "cell_type": "code",
      "source": [
        "# 10.  Create a Python program that uses `filter()` to remove all the vowels from a given string.\n",
        "\n",
        "def remove_vowels(input_string):\n",
        "    vowels = 'aeiouAEIOU'\n",
        "    return ''.join(filter(lambda x: x not in vowels, input_string))"
      ],
      "metadata": {
        "id": "7di43xY_Ztfe"
      },
      "execution_count": 76,
      "outputs": []
    },
    {
      "cell_type": "code",
      "source": [
        "remove_vowels('Rohit')"
      ],
      "metadata": {
        "colab": {
          "base_uri": "https://localhost:8080/",
          "height": 35
        },
        "id": "PKxanJ6VZ8ph",
        "outputId": "0540d5e7-09b3-41cd-a257-8c0418607157"
      },
      "execution_count": 77,
      "outputs": [
        {
          "output_type": "execute_result",
          "data": {
            "text/plain": [
              "'Rht'"
            ],
            "application/vnd.google.colaboratory.intrinsic+json": {
              "type": "string"
            }
          },
          "metadata": {},
          "execution_count": 77
        }
      ]
    },
    {
      "cell_type": "code",
      "source": [
        "# 11.  Imagine an accounting routine used in a book shop. It works on a list with sublists, which look like this:\n",
        "\n",
        "   # order number     book title and author               Quantity           price per item\n",
        "   #  34587           Learning python, Mark Lutz           4                    40.95\n",
        "   #  98762           Programming python, Mark Lutz        5                    56.80\n",
        "   #  77226           Head first python, paul barry        3                    32.95\n",
        "   #  88112           Einfuhrung in python3, Bernd Klein   3                    34.99\n",
        "\n",
        "   # Write a Python program, which returns a list with 2-tuples. Each tuple consists of the order number and the product of the price per item and the quantity. The product should be increased by 10,- € if the value of the order is smaller than 100,00 €.\n",
        "\n",
        "  # Write a Python program using lambda and map.\n",
        "\n",
        "\n",
        "# List of orders: [order number, book title and author, quantity, price per item]\n",
        "orders = [\n",
        "    [34587, \"Learning python, Mark Lutz\", 4, 40.95],\n",
        "    [98762, \"Programming python, Mark Lutz\", 5, 56.80],\n",
        "    [77226, \"Head first python, paul barry\", 3, 32.95],\n",
        "    [88112, \"Einfuhrung in python3, Bernd Klein\", 3, 34.99]\n",
        "]\n",
        "\n",
        "# Using lambda and map to calculate the order value and adjust if necessary\n",
        "order_values = list(map(lambda x: (x[0], x[2] * x[3] + 10) if x[2] * x[3] < 100 else (x[0], x[2] * x[3]), orders))\n",
        "\n",
        "# Print the result\n",
        "print(order_values)\n"
      ],
      "metadata": {
        "colab": {
          "base_uri": "https://localhost:8080/"
        },
        "id": "l8KZlUbnaBRq",
        "outputId": "4f0e152d-9945-46bc-9748-bf231d040920"
      },
      "execution_count": 78,
      "outputs": [
        {
          "output_type": "stream",
          "name": "stdout",
          "text": [
            "[(34587, 163.8), (98762, 284.0), (77226, 108.85000000000001), (88112, 104.97)]\n"
          ]
        }
      ]
    },
    {
      "cell_type": "code",
      "source": [],
      "metadata": {
        "id": "DEegCtt-cNQC"
      },
      "execution_count": null,
      "outputs": []
    }
  ]
}